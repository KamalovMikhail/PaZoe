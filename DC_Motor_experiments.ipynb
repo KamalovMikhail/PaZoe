{
 "cells": [
  {
   "cell_type": "code",
   "execution_count": 16,
   "metadata": {},
   "outputs": [],
   "source": [
    "import pandas as pd\n",
    "import numpy as np\n",
    "import scipy.sparse as sp\n",
    "import scipy as sc\n",
    "from scipy.sparse.linalg import gmres \n",
    "import timeit\n",
    "from sklearn import metrics  as m\n",
    "from sklearn.decomposition import TruncatedSVD\n",
    "from sklearn.neighbors import NearestNeighbors\n",
    "import plotly.graph_objects as go\n",
    "import plotly \n",
    "from plotly.subplots import make_subplots \n",
    "from sklearn.model_selection import train_test_split\n",
    "from sklearn.preprocessing import normalize\n",
    "from sklearn.svm import SVC\n",
    "from sklearn.linear_model import LogisticRegression \n",
    "from sklearn.semi_supervised import LabelSpreading, LabelPropagation\n",
    "from sklearn.neighbors import KNeighborsClassifier "
   ]
  },
  {
   "cell_type": "markdown",
   "metadata": {},
   "source": [
    "# 0. Processing DC motor dataset"
   ]
  },
  {
   "cell_type": "code",
   "execution_count": 17,
   "metadata": {},
   "outputs": [
    {
     "data": {
      "text/plain": [
       "'\\none_w_center - 0\\none_w_border - 1\\ntwo_w_center - 2\\ntwo_w_border - 3\\ntwo_w_diag - 4\\nblank  - 5\\n'"
      ]
     },
     "execution_count": 17,
     "metadata": {},
     "output_type": "execute_result"
    }
   ],
   "source": [
    "'''\n",
    "one_w_center - 0\n",
    "one_w_border - 1\n",
    "two_w_center - 2\n",
    "two_w_border - 3\n",
    "two_w_diag - 4\n",
    "blank  - 5\n",
    "'''"
   ]
  },
  {
   "cell_type": "code",
   "execution_count": 18,
   "metadata": {},
   "outputs": [],
   "source": [
    "data_class = ['twb','twd', 'twc', 'owb', 'owc', 'blank'] "
   ]
  },
  {
   "cell_type": "code",
   "execution_count": 19,
   "metadata": {},
   "outputs": [],
   "source": [
    "list_sensors = dict()\n",
    "data_folder = 'data/620rpm'\n",
    "for t in data_class:\n",
    "    one_wbAccelerometer = pd.read_csv(data_folder + '/'+t+'/'+t+'Accelerometer.csv' , )\n",
    "    one_wbGyroscope = pd.read_csv(data_folder + '/'+t+'/'+t+'Gyroscope.csv',  )\n",
    "    one_wbMagnetometr = pd.read_csv(data_folder + '/'+t+'/'+t+'Magnetometer.csv',  ) \n",
    "\n",
    "    joined_results = one_wbAccelerometer.merge(one_wbMagnetometr[['X (mGa)', 'Y (mGa)', 'Z (mGa)', 'NodeTimestamp']],\n",
    "                              on='NodeTimestamp', how='left').merge(one_wbGyroscope[['X (dps)', 'Y (dps)', 'Z (dps)', 'NodeTimestamp']],\n",
    "                              on='NodeTimestamp', how='left')[['X (mGa)', 'Y (mGa)', 'Z (mGa)', \n",
    "                                                               'X (dps)', 'Y (dps)', 'Z (dps)',\n",
    "                                                              'X (mg)', 'Y (mg)', 'Z (mg)',]]\n",
    "    list_sensors[t] = pd.concat([joined_results]).rename(columns={'X (mGa)': 'X_mGa','Z (mGa)': 'Z_mGa','Y (mGa)': 'Y_mGa',\n",
    "                                                        'X (dps)':'X_dps','Y (dps)':'Y_dps', 'Z (dps)':'Z_dps',\n",
    "                                                        'X (mg)': 'X_mg','Y (mg)': 'Y_mg' , 'Z (mg)': 'Z_mg' })"
   ]
  },
  {
   "cell_type": "code",
   "execution_count": 20,
   "metadata": {},
   "outputs": [],
   "source": [
    "list_sensors['owc']['target'] = np.zeros(list_sensors['owc'].shape[0]) \n",
    "list_sensors['owb']['target'] = np.zeros(list_sensors['owb'].shape[0]) +1\n",
    "list_sensors['twc']['target'] = np.zeros(list_sensors['twc'].shape[0]) +2\n",
    "list_sensors['twb']['target'] = np.zeros(list_sensors['twb'].shape[0]) + 3\n",
    "list_sensors['twd']['target'] = np.zeros(list_sensors['twd'].shape[0]) + 4\n",
    "list_sensors['blank']['target'] = np.zeros(list_sensors['blank'].shape[0]) + 5"
   ]
  },
  {
   "cell_type": "code",
   "execution_count": 21,
   "metadata": {},
   "outputs": [],
   "source": [
    "df_general = pd.concat([list_sensors['owc'][:1024], list_sensors['owb'][:1024], list_sensors['twc'][:1024], \n",
    "                        list_sensors['twb'][:1024], list_sensors['twd'][:1024], list_sensors['blank'][:1024]])"
   ]
  },
  {
   "cell_type": "code",
   "execution_count": 22,
   "metadata": {},
   "outputs": [],
   "source": [
    "to_export = pd.DataFrame( df_general[['X_mGa', 'Y_mGa', 'Z_mGa',  \n",
    "                                        'X_dps', 'Y_dps', 'Z_dps', \n",
    "                                        'X_mg', 'Y_mg', 'Z_mg','target']])"
   ]
  },
  {
   "cell_type": "code",
   "execution_count": 23,
   "metadata": {},
   "outputs": [],
   "source": [
    "Xmga = to_export[['X_mGa','Y_mGa', 'Z_mGa']].values\n",
    "Xmg = to_export[['X_mg','Y_mg', 'Z_mg']].values\n",
    "Xdps = to_export[['X_dps','Y_dps', 'Z_dps']].values\n",
    "Y_ = to_export['target'].values"
   ]
  },
  {
   "cell_type": "markdown",
   "metadata": {},
   "source": [
    "# 1. Transforming data into graph structure"
   ]
  },
  {
   "cell_type": "code",
   "execution_count": 24,
   "metadata": {},
   "outputs": [],
   "source": [
    "def generate_adj(X_array, nnodes, metric='minkowski', n_neighbours=25):\n",
    "    Af = np.zeros((nnodes, nnodes))\n",
    "    for feature in X_array:\n",
    "        nbrs = NearestNeighbors(n_neighbors=n_neighbours, metric=metric ).fit(feature)\n",
    "        distances, indices = nbrs.kneighbors(feature)\n",
    "        for i in range(nnodes):\n",
    "            Af[i, indices[i]] = 1\n",
    "            Af[indices[i], i ] = 1\n",
    "    return Af "
   ]
  },
  {
   "cell_type": "code",
   "execution_count": 25,
   "metadata": {},
   "outputs": [],
   "source": [
    "def calc_A_hat(adj_matrix: sp.spmatrix, delta, sigma, MMx) -> sp.spmatrix:\n",
    "    nnodes = adj_matrix.shape[0]\n",
    "    A = adj_matrix + sp.eye(nnodes)#Ω#@ D_invsqrt_corr\n",
    "    D_vec = np.sum(A, axis=1).A1 \n",
    "    lsigma = sigma - 1\n",
    "    rsigma = - sigma\n",
    "    wsigma = -2*sigma + 1\n",
    "    \n",
    "    D_l = sp.diags(np.power(D_vec, lsigma)) \n",
    "    D_r= sp.diags(np.power(D_vec, rsigma ) )\n",
    "    Dw = sp.diags(np.power(D_vec, wsigma ) )\n",
    "    S_ = MMx@ Dw \n",
    "    \n",
    "    return S_ , D_l@A@D_r  - delta* S_"
   ]
  },
  {
   "cell_type": "markdown",
   "metadata": {},
   "source": [
    "# 2. optimization parts for PRPCA algorithm"
   ]
  },
  {
   "cell_type": "code",
   "execution_count": 26,
   "metadata": {},
   "outputs": [],
   "source": [
    "def IP(A, Z, Y, iter_,  alpha):\n",
    "    A = np.copy(A)\n",
    "    Z = np.copy(Z)\n",
    "    Y = np.copy(Y) \n",
    "    start = timeit.default_timer()\n",
    "    for _ in range(iter_):\n",
    "        Z =  alpha * AHAT@Z   + (1-alpha) * Y\n",
    "        Z = normalize(Z,'l1')\n",
    "    print('time(s):', timeit.default_timer() - start)\n",
    "    return Z"
   ]
  },
  {
   "cell_type": "code",
   "execution_count": 27,
   "metadata": {},
   "outputs": [],
   "source": [
    "def GMRES(A, Y, alpha, k, tol):\n",
    "    A = np.copy(A)\n",
    "    Y = np.copy(Y) \n",
    "    predicts = []\n",
    "    for j in range(k): \n",
    "        temp_ = gmres(A, (1-alpha)*Y[:,j], tol=tol)[0] \n",
    "        predicts.append([temp_])\n",
    "    return np.concatenate(predicts).T "
   ]
  },
  {
   "cell_type": "markdown",
   "metadata": {},
   "source": [
    "# 3. Computation of PRPCA, PaSVM and PaLR"
   ]
  },
  {
   "cell_type": "code",
   "execution_count": 29,
   "metadata": {},
   "outputs": [
    {
     "name": "stderr",
     "output_type": "stream",
     "text": [
      "/Users/mikhail/opt/anaconda3/lib/python3.7/site-packages/ipykernel_launcher.py:56: SettingWithCopyWarning:\n",
      "\n",
      "\n",
      "A value is trying to be set on a copy of a slice from a DataFrame.\n",
      "Try using .loc[row_indexer,col_indexer] = value instead\n",
      "\n",
      "See the caveats in the documentation: https://pandas.pydata.org/pandas-docs/stable/user_guide/indexing.html#returning-a-view-versus-a-copy\n",
      "\n",
      "/Users/mikhail/opt/anaconda3/lib/python3.7/site-packages/ipykernel_launcher.py:57: SettingWithCopyWarning:\n",
      "\n",
      "\n",
      "A value is trying to be set on a copy of a slice from a DataFrame.\n",
      "Try using .loc[row_indexer,col_indexer] = value instead\n",
      "\n",
      "See the caveats in the documentation: https://pandas.pydata.org/pandas-docs/stable/user_guide/indexing.html#returning-a-view-versus-a-copy\n",
      "\n",
      "/Users/mikhail/opt/anaconda3/lib/python3.7/site-packages/ipykernel_launcher.py:58: SettingWithCopyWarning:\n",
      "\n",
      "\n",
      "A value is trying to be set on a copy of a slice from a DataFrame.\n",
      "Try using .loc[row_indexer,col_indexer] = value instead\n",
      "\n",
      "See the caveats in the documentation: https://pandas.pydata.org/pandas-docs/stable/user_guide/indexing.html#returning-a-view-versus-a-copy\n",
      "\n"
     ]
    },
    {
     "name": "stdout",
     "output_type": "stream",
     "text": [
      "mgadps prlg 0.19796954314720813\n",
      "mgadps prsvc 0.6441060349689791\n",
      "mgadps prpca 0.6516587677725119\n"
     ]
    },
    {
     "name": "stderr",
     "output_type": "stream",
     "text": [
      "/Users/mikhail/opt/anaconda3/lib/python3.7/site-packages/sklearn/linear_model/_logistic.py:940: ConvergenceWarning:\n",
      "\n",
      "lbfgs failed to converge (status=1):\n",
      "STOP: TOTAL NO. of ITERATIONS REACHED LIMIT.\n",
      "\n",
      "Increase the number of iterations (max_iter) or scale the data as shown in:\n",
      "    https://scikit-learn.org/stable/modules/preprocessing.html\n",
      "Please also refer to the documentation for alternative solver options:\n",
      "    https://scikit-learn.org/stable/modules/linear_model.html#logistic-regression\n",
      "\n"
     ]
    },
    {
     "name": "stdout",
     "output_type": "stream",
     "text": [
      "all prlg 0.16412859560067683\n",
      "all prsvc 0.4703891708967851\n",
      "all prpca 0.6093432633716994\n"
     ]
    },
    {
     "name": "stderr",
     "output_type": "stream",
     "text": [
      "/Users/mikhail/opt/anaconda3/lib/python3.7/site-packages/ipykernel_launcher.py:56: SettingWithCopyWarning:\n",
      "\n",
      "\n",
      "A value is trying to be set on a copy of a slice from a DataFrame.\n",
      "Try using .loc[row_indexer,col_indexer] = value instead\n",
      "\n",
      "See the caveats in the documentation: https://pandas.pydata.org/pandas-docs/stable/user_guide/indexing.html#returning-a-view-versus-a-copy\n",
      "\n",
      "/Users/mikhail/opt/anaconda3/lib/python3.7/site-packages/ipykernel_launcher.py:57: SettingWithCopyWarning:\n",
      "\n",
      "\n",
      "A value is trying to be set on a copy of a slice from a DataFrame.\n",
      "Try using .loc[row_indexer,col_indexer] = value instead\n",
      "\n",
      "See the caveats in the documentation: https://pandas.pydata.org/pandas-docs/stable/user_guide/indexing.html#returning-a-view-versus-a-copy\n",
      "\n",
      "/Users/mikhail/opt/anaconda3/lib/python3.7/site-packages/ipykernel_launcher.py:58: SettingWithCopyWarning:\n",
      "\n",
      "\n",
      "A value is trying to be set on a copy of a slice from a DataFrame.\n",
      "Try using .loc[row_indexer,col_indexer] = value instead\n",
      "\n",
      "See the caveats in the documentation: https://pandas.pydata.org/pandas-docs/stable/user_guide/indexing.html#returning-a-view-versus-a-copy\n",
      "\n",
      "/Users/mikhail/opt/anaconda3/lib/python3.7/site-packages/ipykernel_launcher.py:59: SettingWithCopyWarning:\n",
      "\n",
      "\n",
      "A value is trying to be set on a copy of a slice from a DataFrame.\n",
      "Try using .loc[row_indexer,col_indexer] = value instead\n",
      "\n",
      "See the caveats in the documentation: https://pandas.pydata.org/pandas-docs/stable/user_guide/indexing.html#returning-a-view-versus-a-copy\n",
      "\n",
      "/Users/mikhail/opt/anaconda3/lib/python3.7/site-packages/ipykernel_launcher.py:60: SettingWithCopyWarning:\n",
      "\n",
      "\n",
      "A value is trying to be set on a copy of a slice from a DataFrame.\n",
      "Try using .loc[row_indexer,col_indexer] = value instead\n",
      "\n",
      "See the caveats in the documentation: https://pandas.pydata.org/pandas-docs/stable/user_guide/indexing.html#returning-a-view-versus-a-copy\n",
      "\n",
      "/Users/mikhail/opt/anaconda3/lib/python3.7/site-packages/ipykernel_launcher.py:61: SettingWithCopyWarning:\n",
      "\n",
      "\n",
      "A value is trying to be set on a copy of a slice from a DataFrame.\n",
      "Try using .loc[row_indexer,col_indexer] = value instead\n",
      "\n",
      "See the caveats in the documentation: https://pandas.pydata.org/pandas-docs/stable/user_guide/indexing.html#returning-a-view-versus-a-copy\n",
      "\n"
     ]
    },
    {
     "name": "stdout",
     "output_type": "stream",
     "text": [
      "mga prlg 0.15284827975183304\n",
      "mga prsvc 0.15284827975183304\n",
      "mga prpca 0.17603249830737983\n"
     ]
    },
    {
     "name": "stderr",
     "output_type": "stream",
     "text": [
      "/Users/mikhail/opt/anaconda3/lib/python3.7/site-packages/ipykernel_launcher.py:56: SettingWithCopyWarning:\n",
      "\n",
      "\n",
      "A value is trying to be set on a copy of a slice from a DataFrame.\n",
      "Try using .loc[row_indexer,col_indexer] = value instead\n",
      "\n",
      "See the caveats in the documentation: https://pandas.pydata.org/pandas-docs/stable/user_guide/indexing.html#returning-a-view-versus-a-copy\n",
      "\n",
      "/Users/mikhail/opt/anaconda3/lib/python3.7/site-packages/ipykernel_launcher.py:57: SettingWithCopyWarning:\n",
      "\n",
      "\n",
      "A value is trying to be set on a copy of a slice from a DataFrame.\n",
      "Try using .loc[row_indexer,col_indexer] = value instead\n",
      "\n",
      "See the caveats in the documentation: https://pandas.pydata.org/pandas-docs/stable/user_guide/indexing.html#returning-a-view-versus-a-copy\n",
      "\n",
      "/Users/mikhail/opt/anaconda3/lib/python3.7/site-packages/ipykernel_launcher.py:58: SettingWithCopyWarning:\n",
      "\n",
      "\n",
      "A value is trying to be set on a copy of a slice from a DataFrame.\n",
      "Try using .loc[row_indexer,col_indexer] = value instead\n",
      "\n",
      "See the caveats in the documentation: https://pandas.pydata.org/pandas-docs/stable/user_guide/indexing.html#returning-a-view-versus-a-copy\n",
      "\n",
      "/Users/mikhail/opt/anaconda3/lib/python3.7/site-packages/ipykernel_launcher.py:59: SettingWithCopyWarning:\n",
      "\n",
      "\n",
      "A value is trying to be set on a copy of a slice from a DataFrame.\n",
      "Try using .loc[row_indexer,col_indexer] = value instead\n",
      "\n",
      "See the caveats in the documentation: https://pandas.pydata.org/pandas-docs/stable/user_guide/indexing.html#returning-a-view-versus-a-copy\n",
      "\n",
      "/Users/mikhail/opt/anaconda3/lib/python3.7/site-packages/ipykernel_launcher.py:60: SettingWithCopyWarning:\n",
      "\n",
      "\n",
      "A value is trying to be set on a copy of a slice from a DataFrame.\n",
      "Try using .loc[row_indexer,col_indexer] = value instead\n",
      "\n",
      "See the caveats in the documentation: https://pandas.pydata.org/pandas-docs/stable/user_guide/indexing.html#returning-a-view-versus-a-copy\n",
      "\n",
      "/Users/mikhail/opt/anaconda3/lib/python3.7/site-packages/ipykernel_launcher.py:61: SettingWithCopyWarning:\n",
      "\n",
      "\n",
      "A value is trying to be set on a copy of a slice from a DataFrame.\n",
      "Try using .loc[row_indexer,col_indexer] = value instead\n",
      "\n",
      "See the caveats in the documentation: https://pandas.pydata.org/pandas-docs/stable/user_guide/indexing.html#returning-a-view-versus-a-copy\n",
      "\n"
     ]
    },
    {
     "name": "stdout",
     "output_type": "stream",
     "text": [
      "mg prlg 0.19458544839255498\n",
      "mg prsvc 0.3998871968415116\n",
      "mg prpca 0.4226472579553148\n"
     ]
    },
    {
     "name": "stderr",
     "output_type": "stream",
     "text": [
      "/Users/mikhail/opt/anaconda3/lib/python3.7/site-packages/ipykernel_launcher.py:56: SettingWithCopyWarning:\n",
      "\n",
      "\n",
      "A value is trying to be set on a copy of a slice from a DataFrame.\n",
      "Try using .loc[row_indexer,col_indexer] = value instead\n",
      "\n",
      "See the caveats in the documentation: https://pandas.pydata.org/pandas-docs/stable/user_guide/indexing.html#returning-a-view-versus-a-copy\n",
      "\n",
      "/Users/mikhail/opt/anaconda3/lib/python3.7/site-packages/ipykernel_launcher.py:57: SettingWithCopyWarning:\n",
      "\n",
      "\n",
      "A value is trying to be set on a copy of a slice from a DataFrame.\n",
      "Try using .loc[row_indexer,col_indexer] = value instead\n",
      "\n",
      "See the caveats in the documentation: https://pandas.pydata.org/pandas-docs/stable/user_guide/indexing.html#returning-a-view-versus-a-copy\n",
      "\n",
      "/Users/mikhail/opt/anaconda3/lib/python3.7/site-packages/ipykernel_launcher.py:58: SettingWithCopyWarning:\n",
      "\n",
      "\n",
      "A value is trying to be set on a copy of a slice from a DataFrame.\n",
      "Try using .loc[row_indexer,col_indexer] = value instead\n",
      "\n",
      "See the caveats in the documentation: https://pandas.pydata.org/pandas-docs/stable/user_guide/indexing.html#returning-a-view-versus-a-copy\n",
      "\n",
      "/Users/mikhail/opt/anaconda3/lib/python3.7/site-packages/ipykernel_launcher.py:59: SettingWithCopyWarning:\n",
      "\n",
      "\n",
      "A value is trying to be set on a copy of a slice from a DataFrame.\n",
      "Try using .loc[row_indexer,col_indexer] = value instead\n",
      "\n",
      "See the caveats in the documentation: https://pandas.pydata.org/pandas-docs/stable/user_guide/indexing.html#returning-a-view-versus-a-copy\n",
      "\n",
      "/Users/mikhail/opt/anaconda3/lib/python3.7/site-packages/ipykernel_launcher.py:60: SettingWithCopyWarning:\n",
      "\n",
      "\n",
      "A value is trying to be set on a copy of a slice from a DataFrame.\n",
      "Try using .loc[row_indexer,col_indexer] = value instead\n",
      "\n",
      "See the caveats in the documentation: https://pandas.pydata.org/pandas-docs/stable/user_guide/indexing.html#returning-a-view-versus-a-copy\n",
      "\n",
      "/Users/mikhail/opt/anaconda3/lib/python3.7/site-packages/ipykernel_launcher.py:61: SettingWithCopyWarning:\n",
      "\n",
      "\n",
      "A value is trying to be set on a copy of a slice from a DataFrame.\n",
      "Try using .loc[row_indexer,col_indexer] = value instead\n",
      "\n",
      "See the caveats in the documentation: https://pandas.pydata.org/pandas-docs/stable/user_guide/indexing.html#returning-a-view-versus-a-copy\n",
      "\n"
     ]
    },
    {
     "name": "stdout",
     "output_type": "stream",
     "text": [
      "dps prlg 0.3530738860688099\n",
      "dps prsvc 0.6734348561759729\n",
      "dps prpca 0.6946513202437373\n"
     ]
    }
   ],
   "source": [
    "from sklearn.model_selection import train_test_split\n",
    "X_list = [[Xmga,Xdps], [Xmga,Xdps, Xmg], [Xmga], [Xmg],  [Xdps] ]\n",
    "names = ['mgadps', 'all', 'mga', 'mg', 'dps']\n",
    "sets_ = [['X_mGa','Y_mGa', 'Z_mGa', 'X_dps','Y_dps', 'Z_dps'], \n",
    "         ['X_mg','Y_mg', 'Z_mg', 'X_mGa','Y_mGa', 'Z_mGa',  'X_dps','Y_dps', 'Z_dps'],\n",
    "         ['X_mGa','Y_mGa', 'Z_mGa'],\n",
    "         ['X_mg','Y_mg', 'Z_mg'],\n",
    "         ['X_dps','Y_dps', 'Z_dps']]\n",
    "         \n",
    "seed = 0\n",
    "sigma = 1\n",
    "nl=20\n",
    "alpha= 0.9  \n",
    "iter_ = 10\n",
    "tol = 1e-03\n",
    "delta = 1e-03\n",
    "beta = 0.9 \n",
    "Z_collect = []\n",
    "nnodes = Xdps.shape[0]\n",
    "for ind_, X in enumerate(X_list):\n",
    "    mean_acc_prpca = []\n",
    "    mean_acc_svm = []\n",
    "    mean_acc_lr = []\n",
    "    for seed in np.arange(1): \n",
    "        Xall = np.concatenate(X, axis=1) \n",
    "        MMx = np.zeros((nnodes, nnodes))\n",
    "        nnodes = Xall.shape[0] \n",
    "        w1 = 1/len(X) \n",
    "        # covariance for each sensor space\n",
    "        for x in X:\n",
    "            Xn = np.copy(x) \n",
    "            Xn = Xn - np.median(Xn, axis=0)\n",
    "            S =  np.dot(Xn, Xn.T) / (Xn.shape[0] - 1 )\n",
    "            MMx +=  w1*S \n",
    "        # adjacency matrix for each sensor space\n",
    "        Af = generate_adj(X, nnodes, n_neighbours=25, metric='euclidean' )\n",
    "        mmc, AHAT = calc_A_hat(Af, delta, sigma, MMx ) \n",
    "        rex = (np.identity(nnodes)  - alpha * AHAT )\n",
    "        # random split dataset for training\n",
    "        rs = np.random.RandomState(seed=seed) \n",
    "        ind0lab = rs.choice(np.where(Y_ == 0 )[0], nl, replace=False)\n",
    "        ind1lab = rs.choice(np.where(Y_ == 1 )[0], nl, replace=False)\n",
    "        ind2lab = rs.choice(np.where(Y_ == 2 )[0], nl, replace=False)\n",
    "        ind3lab = rs.choice(np.where(Y_ == 3 )[0], nl, replace=False)\n",
    "        ind4lab = rs.choice(np.where(Y_ == 4 )[0], nl, replace=False) \n",
    "        ind5lab = rs.choice(np.where(Y_ == 5 )[0], nl, replace=False) \n",
    "        all_lab = np.concatenate([ ind0lab, ind1lab, ind2lab, ind3lab,  ind4lab, ind5lab]) \n",
    "        y_train = np.zeros((Xmga.shape[0], 6))#dfp.target.nunique()\n",
    "        for i in all_lab:\n",
    "            y_train[i, int(Y_[i])] =  1  \n",
    "        # PPRPCA training\n",
    "        Z = GMRES(A=rex, Y=y_train, alpha=alpha, k=y_train.shape[1], tol=tol)\n",
    "        df_X_mgadps = to_export[sets_[ind_]]\n",
    "  \n",
    "        # PPRPCA stacking \n",
    "        df_X_mgadps['c0']= Z[:,0]\n",
    "        df_X_mgadps['c1']= Z[:,1]\n",
    "        df_X_mgadps['c2']= Z[:,2]\n",
    "        df_X_mgadps['c3']= Z[:,3]\n",
    "        df_X_mgadps['c4']= Z[:,4]\n",
    "        df_X_mgadps['c5']= Z[:,5] \n",
    "        df_X_mgadps['target'] = Y_\n",
    "        df_X_mgadps['prpca'] = np.argmax(np.array(Z), axis=1) \n",
    "        # keep the data for ZGP\n",
    "        df_X_mgadps.to_csv('data/620_prpca_'+names[ind_]+'.csv',index=False)\n",
    "        # training of PaSVM and PaLR\n",
    "        X_glob = np.concatenate([Xall, Z],axis=-1 )\n",
    "        Z_glob = np.argmax(Z , axis=-1)\n",
    "        mean_acc_prpca.append(m.accuracy_score(Y_  , np.argmax(np.array(Z), axis=1)   ))  \n",
    "        # PRPCA self-labelling\n",
    "        X_train, X_test, z_train, z_test = train_test_split(X_glob, Z_glob, test_size=0.3, random_state=1) \n",
    "        X_train, X_test, y_train, y_test = train_test_split(X_glob, Y_, test_size=0.3, random_state=1) \n",
    "        # PaSVM\n",
    "        svc = SVC(gamma='auto')\n",
    "        svc.fit( X_train, z_train)\n",
    "        scv_predict = svc.predict( X_test)\n",
    "        mean_acc_svm.append(m.accuracy_score(y_test, scv_predict)) \n",
    "        # PaLR\n",
    "        clf = LogisticRegression(random_state=0) \n",
    "        clf.fit(X_train, z_train)\n",
    "        scv_predict = clf.predict(X_test)\n",
    "        mean_acc_lr.append(m.accuracy_score(y_test, scv_predict))\n",
    "    print(names[ind_], 'prlg', np.mean(mean_acc_lr)) \n",
    "    print(names[ind_], 'prsvc', np.mean(mean_acc_svm)) \n",
    "    print(names[ind_], 'prpca', np.mean(mean_acc_prpca)) "
   ]
  },
  {
   "cell_type": "markdown",
   "metadata": {},
   "source": [
    "# 4. Computation of LP, KNN, SVM and LR "
   ]
  },
  {
   "cell_type": "code",
   "execution_count": 14,
   "metadata": {},
   "outputs": [
    {
     "name": "stdout",
     "output_type": "stream",
     "text": [
      "knn 0.2860528097494922\n",
      "lp 0.31635071090047395\n",
      "lg 0.2975626269465132\n",
      "svm 0.6411645226811103\n"
     ]
    }
   ],
   "source": [
    "nl = 20\n",
    "nnodes = Xdps.shape[0]\n",
    "rs = np.random.RandomState(seed=0) \n",
    "ind0lab = rs.choice(np.where(Y_ == 0 )[0], nl, replace=False)\n",
    "ind1lab = rs.choice(np.where(Y_ == 1 )[0], nl, replace=False)\n",
    "ind2lab = rs.choice(np.where(Y_ == 2 )[0], nl, replace=False)\n",
    "ind3lab = rs.choice(np.where(Y_ == 3 )[0], nl, replace=False)\n",
    "ind4lab = rs.choice(np.where(Y_ == 4 )[0], nl, replace=False) \n",
    "ind5lab = rs.choice(np.where(Y_ == 5 )[0], nl, replace=False) \n",
    "all_lab = np.concatenate([ ind0lab, ind1lab, ind2lab, ind3lab,  ind4lab, ind5lab]) \n",
    "y_train = np.zeros((Xdps.shape[0], 6))#dfp.target.nunique()\n",
    "for i in all_lab:\n",
    "    y_train[i, int(Y_[i])] =  1 \n",
    "    \n",
    "neigh = KNeighborsClassifier(n_neighbors=25, metric='euclidean')\n",
    "neigh.fit(Xdps[all_lab], Y_[all_lab])\n",
    "yknn_predict = neigh.predict(Xdps)\n",
    "print('knn', m.accuracy_score(Y_, yknn_predict))\n",
    "y_lp = np.ones(nnodes)*-1\n",
    "y_lp[all_lab] = Y_[all_lab]\n",
    " \n",
    "lp = LabelPropagation(kernel='rbf', gamma=2, n_neighbors=25)\n",
    "lp.fit(Xdps, y_lp)\n",
    "yLp_predict = lp.predict(Xdps)\n",
    "print('lp',m.accuracy_score(Y_, yLp_predict) )\n",
    " \n",
    "clf = LogisticRegression(random_state=0) \n",
    "clf.fit(Xdps[all_lab], Y_[all_lab])\n",
    "scv_predict = clf.predict(Xdps)\n",
    "print('lg',m.accuracy_score(Y_, scv_predict) )\n",
    " \n",
    "svc = SVC(gamma='auto')\n",
    "svc.fit(Xdps[all_lab], Y_[all_lab])\n",
    "scv_predict = svc.predict(Xdps)\n",
    "print('svm',m.accuracy_score(Y_, scv_predict) )"
   ]
  },
  {
   "cell_type": "code",
   "execution_count": null,
   "metadata": {},
   "outputs": [],
   "source": []
  }
 ],
 "metadata": {
  "kernelspec": {
   "display_name": "Python 3",
   "language": "python",
   "name": "python3"
  },
  "language_info": {
   "codemirror_mode": {
    "name": "ipython",
    "version": 3
   },
   "file_extension": ".py",
   "mimetype": "text/x-python",
   "name": "python",
   "nbconvert_exporter": "python",
   "pygments_lexer": "ipython3",
   "version": "3.7.6"
  }
 },
 "nbformat": 4,
 "nbformat_minor": 4
}
